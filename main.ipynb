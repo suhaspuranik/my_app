{
 "cells": [
  {
   "cell_type": "code",
   "execution_count": null,
   "id": "08aba667",
   "metadata": {},
   "outputs": [
    {
     "name": "stdout",
     "output_type": "stream",
     "text": [
      "Collecting torch\n",
      "  Downloading torch-2.6.0-cp313-cp313-win_amd64.whl.metadata (28 kB)\n",
      "Collecting filelock (from torch)\n",
      "  Downloading filelock-3.18.0-py3-none-any.whl.metadata (2.9 kB)\n",
      "Requirement already satisfied: typing-extensions>=4.10.0 in c:\\users\\data prowess pvt ltd\\appdata\\local\\programs\\python\\python313\\lib\\site-packages (from torch) (4.13.1)\n",
      "Collecting networkx (from torch)\n",
      "  Downloading networkx-3.4.2-py3-none-any.whl.metadata (6.3 kB)\n",
      "Collecting jinja2 (from torch)\n",
      "  Downloading jinja2-3.1.6-py3-none-any.whl.metadata (2.9 kB)\n",
      "Collecting fsspec (from torch)\n",
      "  Downloading fsspec-2025.3.2-py3-none-any.whl.metadata (11 kB)\n",
      "Requirement already satisfied: setuptools in c:\\users\\data prowess pvt ltd\\appdata\\local\\programs\\python\\python313\\lib\\site-packages (from torch) (78.1.0)\n",
      "Collecting sympy==1.13.1 (from torch)\n",
      "  Downloading sympy-1.13.1-py3-none-any.whl.metadata (12 kB)\n",
      "Collecting mpmath<1.4,>=1.1.0 (from sympy==1.13.1->torch)\n",
      "  Downloading mpmath-1.3.0-py3-none-any.whl.metadata (8.6 kB)\n",
      "Collecting MarkupSafe>=2.0 (from jinja2->torch)\n",
      "  Downloading MarkupSafe-3.0.2-cp313-cp313-win_amd64.whl.metadata (4.1 kB)\n",
      "Downloading torch-2.6.0-cp313-cp313-win_amd64.whl (204.1 MB)\n",
      "   ---------------------------------------- 0.0/204.1 MB ? eta -:--:--\n",
      "    --------------------------------------- 2.9/204.1 MB 16.8 MB/s eta 0:00:12\n",
      "   - -------------------------------------- 7.6/204.1 MB 19.5 MB/s eta 0:00:11\n",
      "   --- ------------------------------------ 16.0/204.1 MB 26.3 MB/s eta 0:00:08\n",
      "   ----- ---------------------------------- 26.7/204.1 MB 33.2 MB/s eta 0:00:06\n",
      "   ------- -------------------------------- 36.2/204.1 MB 35.0 MB/s eta 0:00:05\n",
      "   --------- ------------------------------ 47.4/204.1 MB 37.9 MB/s eta 0:00:05\n",
      "   ----------- ---------------------------- 59.0/204.1 MB 40.6 MB/s eta 0:00:04\n",
      "   ------------- -------------------------- 67.4/204.1 MB 40.4 MB/s eta 0:00:04\n",
      "   -------------- ------------------------- 76.3/204.1 MB 40.5 MB/s eta 0:00:04\n",
      "   ---------------- ----------------------- 83.9/204.1 MB 39.7 MB/s eta 0:00:04\n",
      "   ------------------ --------------------- 93.3/204.1 MB 40.1 MB/s eta 0:00:03\n",
      "   ------------------- ------------------- 103.8/204.1 MB 41.0 MB/s eta 0:00:03\n",
      "   ---------------------- ---------------- 115.3/204.1 MB 41.9 MB/s eta 0:00:03\n",
      "   ------------------------ -------------- 126.1/204.1 MB 42.5 MB/s eta 0:00:02\n",
      "   ------------------------- ------------- 134.7/204.1 MB 42.4 MB/s eta 0:00:02\n",
      "   --------------------------- ----------- 144.2/204.1 MB 42.4 MB/s eta 0:00:02\n",
      "   ----------------------------- --------- 152.6/204.1 MB 42.1 MB/s eta 0:00:02\n",
      "   ------------------------------ -------- 161.7/204.1 MB 42.1 MB/s eta 0:00:02\n",
      "   -------------------------------- ------ 169.9/204.1 MB 41.8 MB/s eta 0:00:01\n",
      "   ---------------------------------- ---- 179.0/204.1 MB 41.8 MB/s eta 0:00:01\n",
      "   ----------------------------------- --- 188.0/204.1 MB 41.9 MB/s eta 0:00:01\n",
      "   ------------------------------------- - 196.9/204.1 MB 42.0 MB/s eta 0:00:01\n",
      "   --------------------------------------  203.9/204.1 MB 42.0 MB/s eta 0:00:01\n",
      "   --------------------------------------  203.9/204.1 MB 42.0 MB/s eta 0:00:01\n",
      "   --------------------------------------- 204.1/204.1 MB 39.2 MB/s eta 0:00:00\n",
      "Downloading sympy-1.13.1-py3-none-any.whl (6.2 MB)\n",
      "   ---------------------------------------- 0.0/6.2 MB ? eta -:--:--\n",
      "   -------------------------------------- - 6.0/6.2 MB 29.4 MB/s eta 0:00:01\n",
      "   ---------------------------------------- 6.2/6.2 MB 25.0 MB/s eta 0:00:00\n",
      "Downloading filelock-3.18.0-py3-none-any.whl (16 kB)\n",
      "Downloading fsspec-2025.3.2-py3-none-any.whl (194 kB)\n",
      "Downloading jinja2-3.1.6-py3-none-any.whl (134 kB)\n",
      "Downloading networkx-3.4.2-py3-none-any.whl (1.7 MB)\n",
      "   ---------------------------------------- 0.0/1.7 MB ? eta -:--:--\n",
      "   ---------------------------------------- 1.7/1.7 MB 35.3 MB/s eta 0:00:00\n",
      "Downloading MarkupSafe-3.0.2-cp313-cp313-win_amd64.whl (15 kB)\n",
      "Downloading mpmath-1.3.0-py3-none-any.whl (536 kB)\n",
      "   ---------------------------------------- 0.0/536.2 kB ? eta -:--:--\n",
      "   --------------------------------------- 536.2/536.2 kB 16.8 MB/s eta 0:00:00\n",
      "Installing collected packages: mpmath, sympy, networkx, MarkupSafe, fsspec, filelock, jinja2, torch\n",
      "Successfully installed MarkupSafe-3.0.2 filelock-3.18.0 fsspec-2025.3.2 jinja2-3.1.6 mpmath-1.3.0 networkx-3.4.2 sympy-1.13.1 torch-2.6.0\n",
      "Note: you may need to restart the kernel to use updated packages.\n"
     ]
    },
    {
     "name": "stderr",
     "output_type": "stream",
     "text": [
      "\n",
      "[notice] A new release of pip is available: 24.3.1 -> 25.0.1\n",
      "[notice] To update, run: python.exe -m pip install --upgrade pip\n"
     ]
    }
   ],
   "source": [
    "pip install torch"
   ]
  },
  {
   "cell_type": "code",
   "execution_count": 15,
   "id": "f166a063",
   "metadata": {},
   "outputs": [],
   "source": [
    "import librosa\n",
    "import numpy as np\n",
    "from sklearn.svm import SVC\n",
    "from sklearn.preprocessing import StandardScaler\n",
    "from sklearn.model_selection import train_test_split"
   ]
  },
  {
   "cell_type": "code",
   "execution_count": 16,
   "id": "ca2095e2",
   "metadata": {},
   "outputs": [],
   "source": [
    "def extract_mfcc(file_path):\n",
    "    y, sr = librosa.load(file_path, sr=16000, duration=3)\n",
    "    mfcc = librosa.feature.mfcc(y=y, sr=sr, n_mfcc=40)\n",
    "    return np.mean(mfcc.T, axis=0)  # Average across time"
   ]
  },
  {
   "cell_type": "code",
   "execution_count": 17,
   "id": "354b043d",
   "metadata": {},
   "outputs": [],
   "source": [
    "X, y = [], []\n",
    "for lang_idx, language in enumerate(os.listdir(\"dataset\")):\n",
    "    for file in os.listdir(f\"dataset/{language}\"):\n",
    "        if file.endswith(\".mp3\"):\n",
    "            features = extract_mfcc(f\"dataset/{language}/{file}\")\n",
    "            X.append(features)\n",
    "            y.append(lang_idx)"
   ]
  },
  {
   "cell_type": "code",
   "execution_count": 18,
   "id": "d2ffdc8a",
   "metadata": {},
   "outputs": [
    {
     "name": "stdout",
     "output_type": "stream",
     "text": [
      "Accuracy: 0.8515\n"
     ]
    }
   ],
   "source": [
    "X_train, X_test, y_train, y_test = train_test_split(X, y, test_size=0.2)\n",
    "scaler = StandardScaler()\n",
    "X_train = scaler.fit_transform(X_train)\n",
    "X_test = scaler.transform(X_test)\n",
    "\n",
    "clf = SVC(kernel='rbf', C=10)\n",
    "clf.fit(X_train, y_train)\n",
    "print(\"Accuracy:\", clf.score(X_test, y_test))"
   ]
  },
  {
   "cell_type": "markdown",
   "id": "4bc8c0de",
   "metadata": {},
   "source": [
    "USING CNN "
   ]
  },
  {
   "cell_type": "code",
   "execution_count": null,
   "id": "a533f5b3",
   "metadata": {},
   "outputs": [],
   "source": []
  },
  {
   "cell_type": "code",
   "execution_count": 21,
   "id": "58e426b7",
   "metadata": {},
   "outputs": [],
   "source": [
    "import torch\n",
    "import torch.nn as nn\n",
    "import torch.optim as optim\n",
    "from torch.utils.data import DataLoader, TensorDataset\n",
    "import librosa\n",
    "import numpy as np\n"
   ]
  },
  {
   "cell_type": "code",
   "execution_count": 22,
   "id": "879d66c2",
   "metadata": {},
   "outputs": [],
   "source": [
    "def extract_features(file_path):\n",
    "    audio, sr = librosa.load(file_path, sr=16000, duration=3)\n",
    "    mfcc = librosa.feature.mfcc(y=audio, sr=sr, n_mfcc=40)\n",
    "    return mfcc.T  # Shape: (time_steps, 40)"
   ]
  },
  {
   "cell_type": "code",
   "execution_count": 23,
   "id": "778e6426",
   "metadata": {},
   "outputs": [],
   "source": [
    "X, y = [], []\n",
    "for lang_idx, lang in enumerate([\"hindi\", \"kannada\", \"tamil\", \"malayalam\", \"marathi\", \n",
    "                 \"punjabi\", \"urdu\", \"bengali\", \"gujarati\", \"telugu\"]):  # Your 10 languages\n",
    "    for file in os.listdir(f\"dataset/{lang}\"):\n",
    "        if file.endswith(\".mp3\"):\n",
    "            features = extract_features(f\"dataset/{lang}/{file}\")\n",
    "            X.append(features)\n",
    "            y.append(lang_idx)\n"
   ]
  },
  {
   "cell_type": "code",
   "execution_count": 26,
   "id": "4cd85914",
   "metadata": {},
   "outputs": [],
   "source": [
    "max_len = 100  # Adjust based on your data\n",
    "X_padded = np.array([np.pad(x, ((0, max_len - x.shape[0]), (0, 0))) for x in X])\n",
    "X_tensor = torch.FloatTensor(X_padded)  # Shape: (n_samples, 100, 40)\n",
    "y_tensor = torch.LongTensor(y)\n"
   ]
  },
  {
   "cell_type": "code",
   "execution_count": 27,
   "id": "03957536",
   "metadata": {},
   "outputs": [],
   "source": [
    "# 3. Define CNN Model\n",
    "class AudioCNN(nn.Module):\n",
    "    def __init__(self):\n",
    "        super().__init__()\n",
    "        self.conv1 = nn.Conv1d(40, 64, kernel_size=3, stride=1, padding=1)\n",
    "        self.pool = nn.MaxPool1d(2)\n",
    "        self.conv2 = nn.Conv1d(64, 128, kernel_size=3, stride=1, padding=1)\n",
    "        self.fc = nn.Linear(128 * 25, 10)  # 10 output classes\n",
    "\n",
    "    def forward(self, x):\n",
    "        x = x.permute(0, 2, 1)  # Change to (batch, channels, time)\n",
    "        x = torch.relu(self.conv1(x))\n",
    "        x = self.pool(x)\n",
    "        x = torch.relu(self.conv2(x))\n",
    "        x = self.pool(x)\n",
    "        x = x.view(x.size(0), -1)  # Flatten\n",
    "        return self.fc(x)\n"
   ]
  },
  {
   "cell_type": "code",
   "execution_count": 28,
   "id": "8a4eb91c",
   "metadata": {},
   "outputs": [
    {
     "name": "stdout",
     "output_type": "stream",
     "text": [
      "Epoch 1, Loss: 0.7047\n",
      "Epoch 2, Loss: 0.7295\n",
      "Epoch 3, Loss: 0.3038\n",
      "Epoch 4, Loss: 0.2357\n",
      "Epoch 5, Loss: 0.4791\n",
      "Epoch 6, Loss: 0.2457\n",
      "Epoch 7, Loss: 0.1914\n",
      "Epoch 8, Loss: 0.3528\n",
      "Epoch 9, Loss: 0.3919\n",
      "Epoch 10, Loss: 0.0490\n"
     ]
    }
   ],
   "source": [
    "model = AudioCNN()\n",
    "criterion = nn.CrossEntropyLoss()\n",
    "optimizer = optim.Adam(model.parameters())\n",
    "\n",
    "dataset = TensorDataset(X_tensor, y_tensor)\n",
    "loader = DataLoader(dataset, batch_size=32, shuffle=True)\n",
    "\n",
    "for epoch in range(10):\n",
    "    for batch_x, batch_y in loader:\n",
    "        optimizer.zero_grad()\n",
    "        outputs = model(batch_x)\n",
    "        loss = criterion(outputs, batch_y)\n",
    "        loss.backward()\n",
    "        optimizer.step()\n",
    "    print(f\"Epoch {epoch+1}, Loss: {loss.item():.4f}\")"
   ]
  },
  {
   "cell_type": "code",
   "execution_count": 30,
   "id": "34c44d0f",
   "metadata": {},
   "outputs": [],
   "source": [
    "import torch\n",
    "import numpy as np\n",
    "from sklearn.metrics import accuracy_score"
   ]
  },
  {
   "cell_type": "code",
   "execution_count": 31,
   "id": "ceeb0062",
   "metadata": {},
   "outputs": [
    {
     "name": "stdout",
     "output_type": "stream",
     "text": [
      "Epoch 1: Loss=0.1146, Accuracy=96.35%\n",
      "Epoch 2: Loss=0.1238, Accuracy=96.27%\n",
      "Epoch 3: Loss=0.1289, Accuracy=96.23%\n",
      "Epoch 4: Loss=0.0963, Accuracy=96.97%\n",
      "Epoch 5: Loss=0.1396, Accuracy=96.00%\n",
      "Epoch 6: Loss=0.1239, Accuracy=96.29%\n",
      "Epoch 7: Loss=0.0887, Accuracy=97.12%\n",
      "Epoch 8: Loss=0.0977, Accuracy=97.11%\n",
      "Epoch 9: Loss=0.1022, Accuracy=96.80%\n",
      "Epoch 10: Loss=0.1094, Accuracy=97.01%\n"
     ]
    },
    {
     "ename": "NameError",
     "evalue": "name 'test_loader' is not defined",
     "output_type": "error",
     "traceback": [
      "\u001b[31m---------------------------------------------------------------------------\u001b[39m",
      "\u001b[31mNameError\u001b[39m                                 Traceback (most recent call last)",
      "\u001b[36mCell\u001b[39m\u001b[36m \u001b[39m\u001b[32mIn[31]\u001b[39m\u001b[32m, line 47\u001b[39m\n\u001b[32m     44\u001b[39m     \u001b[38;5;28;01mreturn\u001b[39;00m acc\n\u001b[32m     46\u001b[39m \u001b[38;5;66;03m# Usage (assuming you have a test_loader)\u001b[39;00m\n\u001b[32m---> \u001b[39m\u001b[32m47\u001b[39m test_accuracy = evaluate(model, \u001b[43mtest_loader\u001b[49m)\n",
      "\u001b[31mNameError\u001b[39m: name 'test_loader' is not defined"
     ]
    }
   ],
   "source": [
    "def calculate_accuracy(y_true, y_pred):\n",
    "    _, predicted = torch.max(y_pred, 1)\n",
    "    correct = (predicted == y_true).sum().item()\n",
    "    return correct / len(y_true)\n",
    "\n",
    "# Training loop with accuracy\n",
    "for epoch in range(10):\n",
    "    model.train()\n",
    "    epoch_loss = 0\n",
    "    epoch_acc = 0\n",
    "    \n",
    "    for batch_x, batch_y in loader:\n",
    "        optimizer.zero_grad()\n",
    "        outputs = model(batch_x)\n",
    "        loss = criterion(outputs, batch_y)\n",
    "        loss.backward()\n",
    "        optimizer.step()\n",
    "        \n",
    "        # Calculate batch accuracy\n",
    "        acc = calculate_accuracy(batch_y, outputs)\n",
    "        epoch_acc += acc\n",
    "        epoch_loss += loss.item()\n",
    "    \n",
    "    # Print epoch stats\n",
    "    avg_loss = epoch_loss / len(loader)\n",
    "    avg_acc = epoch_acc / len(loader)\n",
    "    print(f\"Epoch {epoch+1}: Loss={avg_loss:.4f}, Accuracy={avg_acc:.2%}\")\n",
    "\n",
    "# Evaluation function\n",
    "def evaluate(model, test_loader):\n",
    "    model.eval()\n",
    "    all_preds = []\n",
    "    all_true = []\n",
    "    \n",
    "    with torch.no_grad():\n",
    "        for batch_x, batch_y in test_loader:\n",
    "            outputs = model(batch_x)\n",
    "            _, preds = torch.max(outputs, 1)\n",
    "            all_preds.extend(preds.cpu().numpy())\n",
    "            all_true.extend(batch_y.cpu().numpy())\n",
    "    \n",
    "    acc = accuracy_score(all_true, all_preds)\n",
    "    print(f\"\\nTest Accuracy: {acc:.2%}\")\n",
    "    return acc\n",
    "\n",
    "# Usage (assuming you have a test_loader)\n",
    "test_accuracy = evaluate(model, test_loader)"
   ]
  },
  {
   "cell_type": "code",
   "execution_count": null,
   "id": "5e4c5fb9",
   "metadata": {},
   "outputs": [],
   "source": []
  },
  {
   "cell_type": "markdown",
   "id": "3bb0a568",
   "metadata": {},
   "source": [
    "error resolve for cnn"
   ]
  },
  {
   "cell_type": "code",
   "execution_count": null,
   "id": "10cfc919",
   "metadata": {},
   "outputs": [
    {
     "name": "stdout",
     "output_type": "stream",
     "text": [
      "Collecting matplotlib\n",
      "  Downloading matplotlib-3.10.1-cp313-cp313-win_amd64.whl.metadata (11 kB)\n",
      "Collecting contourpy>=1.0.1 (from matplotlib)\n",
      "  Downloading contourpy-1.3.1-cp313-cp313-win_amd64.whl.metadata (5.4 kB)\n",
      "Collecting cycler>=0.10 (from matplotlib)\n",
      "  Downloading cycler-0.12.1-py3-none-any.whl.metadata (3.8 kB)\n",
      "Collecting fonttools>=4.22.0 (from matplotlib)\n",
      "  Downloading fonttools-4.57.0-cp313-cp313-win_amd64.whl.metadata (104 kB)\n",
      "Collecting kiwisolver>=1.3.1 (from matplotlib)\n",
      "  Downloading kiwisolver-1.4.8-cp313-cp313-win_amd64.whl.metadata (6.3 kB)\n",
      "Requirement already satisfied: numpy>=1.23 in c:\\users\\data prowess pvt ltd\\appdata\\local\\programs\\python\\python313\\lib\\site-packages (from matplotlib) (2.2.4)\n",
      "Requirement already satisfied: packaging>=20.0 in c:\\users\\data prowess pvt ltd\\appdata\\local\\programs\\python\\python313\\lib\\site-packages (from matplotlib) (24.2)\n",
      "Collecting pillow>=8 (from matplotlib)\n",
      "  Downloading pillow-11.1.0-cp313-cp313-win_amd64.whl.metadata (9.3 kB)\n",
      "Collecting pyparsing>=2.3.1 (from matplotlib)\n",
      "  Downloading pyparsing-3.2.3-py3-none-any.whl.metadata (5.0 kB)\n",
      "Requirement already satisfied: python-dateutil>=2.7 in c:\\users\\data prowess pvt ltd\\appdata\\local\\programs\\python\\python313\\lib\\site-packages (from matplotlib) (2.9.0.post0)\n",
      "Requirement already satisfied: six>=1.5 in c:\\users\\data prowess pvt ltd\\appdata\\local\\programs\\python\\python313\\lib\\site-packages (from python-dateutil>=2.7->matplotlib) (1.17.0)\n",
      "Downloading matplotlib-3.10.1-cp313-cp313-win_amd64.whl (8.1 MB)\n",
      "   ---------------------------------------- 0.0/8.1 MB ? eta -:--:--\n",
      "   --------------------------------- ------ 6.8/8.1 MB 33.7 MB/s eta 0:00:01\n",
      "   ---------------------------------------- 8.1/8.1 MB 30.1 MB/s eta 0:00:00\n",
      "Downloading contourpy-1.3.1-cp313-cp313-win_amd64.whl (220 kB)\n",
      "Downloading cycler-0.12.1-py3-none-any.whl (8.3 kB)\n",
      "Downloading fonttools-4.57.0-cp313-cp313-win_amd64.whl (2.2 MB)\n",
      "   ---------------------------------------- 0.0/2.2 MB ? eta -:--:--\n",
      "   ---------------------------------------- 2.2/2.2 MB 23.1 MB/s eta 0:00:00\n",
      "Downloading kiwisolver-1.4.8-cp313-cp313-win_amd64.whl (71 kB)\n",
      "Downloading pillow-11.1.0-cp313-cp313-win_amd64.whl (2.6 MB)\n",
      "   ---------------------------------------- 0.0/2.6 MB ? eta -:--:--\n",
      "   ---------------------------------------- 2.6/2.6 MB 29.0 MB/s eta 0:00:00\n",
      "Downloading pyparsing-3.2.3-py3-none-any.whl (111 kB)\n",
      "Installing collected packages: pyparsing, pillow, kiwisolver, fonttools, cycler, contourpy, matplotlib\n",
      "Successfully installed contourpy-1.3.1 cycler-0.12.1 fonttools-4.57.0 kiwisolver-1.4.8 matplotlib-3.10.1 pillow-11.1.0 pyparsing-3.2.3\n",
      "Note: you may need to restart the kernel to use updated packages.\n"
     ]
    },
    {
     "name": "stderr",
     "output_type": "stream",
     "text": [
      "\n",
      "[notice] A new release of pip is available: 24.3.1 -> 25.0.1\n",
      "[notice] To update, run: python.exe -m pip install --upgrade pip\n"
     ]
    }
   ],
   "source": [
    "pip install\n",
    "matplotlib"
   ]
  },
  {
   "cell_type": "code",
   "execution_count": 34,
   "id": "ef87fb64",
   "metadata": {},
   "outputs": [],
   "source": [
    "import os\n",
    "import torch\n",
    "import torch.nn as nn\n",
    "import torch.optim as optim\n",
    "from torch.utils.data import DataLoader, TensorDataset\n",
    "import librosa\n",
    "import numpy as np\n",
    "from sklearn.model_selection import train_test_split\n",
    "from sklearn.metrics import accuracy_score\n",
    "import matplotlib.pyplot as plt"
   ]
  },
  {
   "cell_type": "code",
   "execution_count": 35,
   "id": "c66b1c4c",
   "metadata": {},
   "outputs": [],
   "source": [
    "def extract_features(file_path):\n",
    "    audio, sr = librosa.load(file_path, sr=16000, duration=3)\n",
    "    mfcc = librosa.feature.mfcc(y=audio, sr=sr, n_mfcc=40)\n",
    "    return mfcc.T  # Shape: (time_steps, 40)"
   ]
  },
  {
   "cell_type": "code",
   "execution_count": 36,
   "id": "944c749e",
   "metadata": {},
   "outputs": [],
   "source": [
    "languages = [\"hindi\", \"kannada\", \"tamil\", \"malayalam\", \"marathi\",\n",
    "             \"punjabi\", \"urdu\", \"bengali\", \"gujarati\", \"telugu\"]"
   ]
  },
  {
   "cell_type": "code",
   "execution_count": 37,
   "id": "d3b04954",
   "metadata": {},
   "outputs": [],
   "source": [
    "X, y = [], []\n",
    "for lang_idx, lang in enumerate(languages):\n",
    "    folder = f\"dataset/{lang}\"\n",
    "    for file in os.listdir(folder):\n",
    "        if file.endswith(\".mp3\"):\n",
    "            features = extract_features(os.path.join(folder, file))\n",
    "            X.append(features)\n",
    "            y.append(lang_idx)\n"
   ]
  },
  {
   "cell_type": "code",
   "execution_count": 38,
   "id": "3a183f19",
   "metadata": {},
   "outputs": [],
   "source": [
    "# 3. Padding\n",
    "max_len = 100  # Adjust based on data\n",
    "X_padded = np.array([np.pad(x, ((0, max_len - x.shape[0]), (0, 0))) for x in X])\n",
    "X_tensor = torch.FloatTensor(X_padded)  # Shape: (n_samples, 100, 40)\n",
    "y_tensor = torch.LongTensor(y)\n"
   ]
  },
  {
   "cell_type": "code",
   "execution_count": 39,
   "id": "0c337ca7",
   "metadata": {},
   "outputs": [],
   "source": [
    "# 4. Train-test split\n",
    "X_train, X_test, y_train, y_test = train_test_split(X_tensor, y_tensor, test_size=0.2, random_state=42)\n",
    "train_loader = DataLoader(TensorDataset(X_train, y_train), batch_size=32, shuffle=True)\n",
    "test_loader = DataLoader(TensorDataset(X_test, y_test), batch_size=32, shuffle=False)\n"
   ]
  },
  {
   "cell_type": "code",
   "execution_count": 40,
   "id": "41a17981",
   "metadata": {},
   "outputs": [],
   "source": [
    "# 5. CNN Model\n",
    "class AudioCNN(nn.Module):\n",
    "    def __init__(self):\n",
    "        super().__init__()\n",
    "        self.conv1 = nn.Conv1d(40, 64, kernel_size=3, stride=1, padding=1)\n",
    "        self.pool = nn.MaxPool1d(2)\n",
    "        self.conv2 = nn.Conv1d(64, 128, kernel_size=3, stride=1, padding=1)\n",
    "        self.fc = nn.Linear(128 * 25, 10)  # Adjusted for input length of 100\n",
    "\n",
    "    def forward(self, x):\n",
    "        x = x.permute(0, 2, 1)  # (batch, channels, time)\n",
    "        x = torch.relu(self.conv1(x))\n",
    "        x = self.pool(x)\n",
    "        x = torch.relu(self.conv2(x))\n",
    "        x = self.pool(x)\n",
    "        x = x.view(x.size(0), -1)  # Flatten\n",
    "        return self.fc(x)\n"
   ]
  },
  {
   "cell_type": "code",
   "execution_count": 41,
   "id": "f7debab3",
   "metadata": {},
   "outputs": [],
   "source": [
    "# 6. Training Setup\n",
    "model = AudioCNN()\n",
    "criterion = nn.CrossEntropyLoss()\n",
    "optimizer = optim.Adam(model.parameters(), lr=0.001)\n",
    "\n",
    "def calculate_accuracy(y_true, y_pred):\n",
    "    _, predicted = torch.max(y_pred, 1)\n",
    "    correct = (predicted == y_true).sum().item()\n",
    "    return correct / len(y_true)"
   ]
  },
  {
   "cell_type": "code",
   "execution_count": 42,
   "id": "da1c26a9",
   "metadata": {},
   "outputs": [
    {
     "name": "stdout",
     "output_type": "stream",
     "text": [
      "Epoch 1: Loss=1.5719, Accuracy=62.00%\n",
      "Epoch 2: Loss=0.5140, Accuracy=79.97%\n",
      "Epoch 3: Loss=0.3613, Accuracy=85.36%\n",
      "Epoch 4: Loss=0.2713, Accuracy=88.81%\n",
      "Epoch 5: Loss=0.2374, Accuracy=90.62%\n",
      "Epoch 6: Loss=0.1975, Accuracy=91.65%\n",
      "Epoch 7: Loss=0.1692, Accuracy=93.17%\n",
      "Epoch 8: Loss=0.1624, Accuracy=93.88%\n",
      "Epoch 9: Loss=0.1526, Accuracy=94.01%\n",
      "Epoch 10: Loss=0.1364, Accuracy=95.15%\n"
     ]
    }
   ],
   "source": [
    "# 7. Training Loop\n",
    "train_losses = []\n",
    "train_accuracies = []\n",
    "\n",
    "for epoch in range(10):\n",
    "    model.train()\n",
    "    epoch_loss = 0\n",
    "    epoch_acc = 0\n",
    "\n",
    "    for batch_x, batch_y in train_loader:\n",
    "        optimizer.zero_grad()\n",
    "        outputs = model(batch_x)\n",
    "        loss = criterion(outputs, batch_y)\n",
    "        loss.backward()\n",
    "        optimizer.step()\n",
    "\n",
    "        acc = calculate_accuracy(batch_y, outputs)\n",
    "        epoch_loss += loss.item()\n",
    "        epoch_acc += acc\n",
    "\n",
    "    avg_loss = epoch_loss / len(train_loader)\n",
    "    avg_acc = epoch_acc / len(train_loader)\n",
    "\n",
    "    train_losses.append(avg_loss)\n",
    "    train_accuracies.append(avg_acc)\n",
    "\n",
    "    print(f\"Epoch {epoch+1}: Loss={avg_loss:.4f}, Accuracy={avg_acc:.2%}\")\n"
   ]
  },
  {
   "cell_type": "code",
   "execution_count": 43,
   "id": "efe70e39",
   "metadata": {},
   "outputs": [
    {
     "name": "stdout",
     "output_type": "stream",
     "text": [
      "Model saved as audio_cnn_model.pth\n"
     ]
    }
   ],
   "source": [
    "torch.save(model.state_dict(), \"audio_cnn_model.pth\")\n",
    "print(\"Model saved as audio_cnn_model.pth\")\n"
   ]
  },
  {
   "cell_type": "code",
   "execution_count": 44,
   "id": "c25ba199",
   "metadata": {},
   "outputs": [
    {
     "data": {
      "image/png": "[encoded data removed]",
      "text/plain": [
       "<Figure size 1200x400 with 2 Axes>"
      ]
     },
     "metadata": {},
     "output_type": "display_data"
    }
   ],
   "source": [
    "# 9. Plotting loss and accuracy\n",
    "plt.figure(figsize=(12, 4))\n",
    "plt.subplot(1, 2, 1)\n",
    "plt.plot(train_losses, marker='o')\n",
    "plt.title(\"Training Loss\")\n",
    "plt.xlabel(\"Epoch\")\n",
    "plt.ylabel(\"Loss\")\n",
    "\n",
    "plt.subplot(1, 2, 2)\n",
    "plt.plot(train_accuracies, marker='o')\n",
    "plt.title(\"Training Accuracy\")\n",
    "plt.xlabel(\"Epoch\")\n",
    "plt.ylabel(\"Accuracy\")\n",
    "\n",
    "plt.tight_layout()\n",
    "plt.show()\n"
   ]
  },
  {
   "cell_type": "code",
   "execution_count": 45,
   "id": "a2cd2985",
   "metadata": {},
   "outputs": [
    {
     "name": "stdout",
     "output_type": "stream",
     "text": [
      "\n",
      "Test Accuracy: 82.45%\n"
     ]
    }
   ],
   "source": [
    "# 10. Evaluation on test set\n",
    "def evaluate(model, test_loader):\n",
    "    model.eval()\n",
    "    all_preds = []\n",
    "    all_true = []\n",
    "\n",
    "    with torch.no_grad():\n",
    "        for batch_x, batch_y in test_loader:\n",
    "            outputs = model(batch_x)\n",
    "            _, preds = torch.max(outputs, 1)\n",
    "            all_preds.extend(preds.cpu().numpy())\n",
    "            all_true.extend(batch_y.cpu().numpy())\n",
    "\n",
    "    acc = accuracy_score(all_true, all_preds)\n",
    "    print(f\"\\nTest Accuracy: {acc:.2%}\")\n",
    "    return acc\n",
    "\n",
    "test_accuracy = evaluate(model, test_loader)"
   ]
  },
  {
   "cell_type": "code",
   "execution_count": 46,
   "id": "88a1307f",
   "metadata": {},
   "outputs": [],
   "source": [
    "def predict_language(file_path, model, class_names):\n",
    "    model.eval()\n",
    "    features = extract_features(file_path)  # No augment for test\n",
    "    padded = np.pad(features, ((0, 100 - features.shape[0]), (0, 0)))\n",
    "    tensor = torch.FloatTensor(padded).unsqueeze(0)  # Add batch dimension\n",
    "    with torch.no_grad():\n",
    "        output = model(tensor)\n",
    "        _, predicted = torch.max(output, 1)\n",
    "        print(f\"Predicted Language: {class_names[predicted.item()]}\")\n"
   ]
  },
  {
   "cell_type": "code",
   "execution_count": 47,
   "id": "bb50f7b2",
   "metadata": {},
   "outputs": [
    {
     "name": "stdout",
     "output_type": "stream",
     "text": [
      "Predicted Language: urdu\n"
     ]
    }
   ],
   "source": [
    "predict_language(\"test_audio.mp3\", model, languages)\n"
   ]
  },
  {
   "cell_type": "markdown",
   "id": "360b8212",
   "metadata": {},
   "source": [
    "Testing"
   ]
  },
  {
   "cell_type": "code",
   "execution_count": 48,
   "id": "f5e64370",
   "metadata": {},
   "outputs": [
    {
     "name": "stdout",
     "output_type": "stream",
     "text": [
      "Collecting sounddevice\n",
      "  Downloading sounddevice-0.5.1-py3-none-win_amd64.whl.metadata (1.4 kB)\n",
      "Requirement already satisfied: CFFI>=1.0 in c:\\users\\data prowess pvt ltd\\appdata\\local\\programs\\python\\python313\\lib\\site-packages (from sounddevice) (1.17.1)\n",
      "Requirement already satisfied: pycparser in c:\\users\\data prowess pvt ltd\\appdata\\local\\programs\\python\\python313\\lib\\site-packages (from CFFI>=1.0->sounddevice) (2.22)\n",
      "Downloading sounddevice-0.5.1-py3-none-win_amd64.whl (363 kB)\n",
      "Installing collected packages: sounddevice\n",
      "Successfully installed sounddevice-0.5.1\n",
      "Note: you may need to restart the kernel to use updated packages.\n"
     ]
    },
    {
     "name": "stderr",
     "output_type": "stream",
     "text": [
      "\n",
      "[notice] A new release of pip is available: 24.3.1 -> 25.0.1\n",
      "[notice] To update, run: python.exe -m pip install --upgrade pip\n"
     ]
    }
   ],
   "source": [
    "pip install sounddevice"
   ]
  },
  {
   "cell_type": "code",
   "execution_count": 52,
   "id": "5cd1fbc9",
   "metadata": {},
   "outputs": [
    {
     "name": "stdout",
     "output_type": "stream",
     "text": [
      "\n",
      "🎙️ Recording 5 seconds of audio...\n",
      "🧠 Predicted Language: telugu\n"
     ]
    }
   ],
   "source": [
    "import sounddevice as sd\n",
    "import librosa\n",
    "import torch\n",
    "import numpy as np\n",
    "from scipy.io.wavfile import write\n",
    "\n",
    "# --- Your CNN Model ---\n",
    "class AudioCNN(nn.Module):\n",
    "    def __init__(self):\n",
    "        super().__init__()\n",
    "        self.conv1 = nn.Conv1d(40, 64, kernel_size=3, stride=1, padding=1)\n",
    "        self.pool = nn.MaxPool1d(2)\n",
    "        self.conv2 = nn.Conv1d(64, 128, kernel_size=3, stride=1, padding=1)\n",
    "        self.fc = nn.Linear(128 * 25, 10)\n",
    "\n",
    "    def forward(self, x):\n",
    "        x = x.permute(0, 2, 1)\n",
    "        x = torch.relu(self.conv1(x))\n",
    "        x = self.pool(x)\n",
    "        x = torch.relu(self.conv2(x))\n",
    "        x = self.pool(x)\n",
    "        x = x.view(x.size(0), -1)\n",
    "        return self.fc(x)\n",
    "\n",
    "# --- Load Model ---\n",
    "model = AudioCNN()\n",
    "model.load_state_dict(torch.load(\"audio_cnn_model.pth\"))\n",
    "model.eval()\n",
    "\n",
    "languages = [\"hindi\", \"kannada\", \"tamil\", \"malayalam\", \"marathi\",\n",
    "             \"punjabi\", \"urdu\", \"bengali\", \"gujarati\", \"telugu\"]\n",
    "\n",
    "# --- Real-time Recording + Prediction ---\n",
    "def predict_live_language(duration=5, sr=16000):\n",
    "    print(f\"\\n🎙️ Recording {duration} seconds of audio...\")\n",
    "    recording = sd.rec(int(duration * sr), samplerate=sr, channels=1, dtype='float32')\n",
    "    sd.wait()\n",
    "    audio = recording.flatten()\n",
    "\n",
    "    # --- Preprocess ---\n",
    "    mfcc = librosa.feature.mfcc(y=audio, sr=sr, n_mfcc=40).T\n",
    "    padded = np.pad(mfcc, ((0, max(0, 100 - mfcc.shape[0])), (0, 0)))\n",
    "    padded = padded[:100]  # Ensure exact shape\n",
    "\n",
    "    tensor = torch.FloatTensor(padded).unsqueeze(0)\n",
    "    with torch.no_grad():\n",
    "        output = model(tensor)\n",
    "        _, pred = torch.max(output, 1)\n",
    "        print(f\"🧠 Predicted Language: {languages[pred.item()]}\")\n",
    "\n",
    "# --- Run it ---\n",
    "predict_live_language()\n"
   ]
  },
  {
   "cell_type": "code",
   "execution_count": null,
   "id": "b8706820",
   "metadata": {},
   "outputs": [],
   "source": []
  },
  {
   "cell_type": "markdown",
   "id": "5a5554a8",
   "metadata": {},
   "source": [
    "Model: CNN + BiLSTM"
   ]
  },
  {
   "cell_type": "code",
   "execution_count": 2,
   "id": "7b35464f",
   "metadata": {},
   "outputs": [
    {
     "ename": "ModuleNotFoundError",
     "evalue": "No module named 'joblib'",
     "output_type": "error",
     "traceback": [
      "\u001b[1;31m---------------------------------------------------------------------------\u001b[0m",
      "\u001b[1;31mModuleNotFoundError\u001b[0m                       Traceback (most recent call last)",
      "Cell \u001b[1;32mIn[2], line 8\u001b[0m\n\u001b[0;32m      6\u001b[0m \u001b[38;5;28;01mimport\u001b[39;00m \u001b[38;5;21;01mlibrosa\u001b[39;00m\n\u001b[0;32m      7\u001b[0m \u001b[38;5;28;01mfrom\u001b[39;00m \u001b[38;5;21;01mtorch\u001b[39;00m\u001b[38;5;21;01m.\u001b[39;00m\u001b[38;5;21;01mutils\u001b[39;00m\u001b[38;5;21;01m.\u001b[39;00m\u001b[38;5;21;01mdata\u001b[39;00m \u001b[38;5;28;01mimport\u001b[39;00m DataLoader, TensorDataset, random_split\n\u001b[1;32m----> 8\u001b[0m \u001b[38;5;28;01mfrom\u001b[39;00m \u001b[38;5;21;01msklearn\u001b[39;00m\u001b[38;5;21;01m.\u001b[39;00m\u001b[38;5;21;01mmetrics\u001b[39;00m \u001b[38;5;28;01mimport\u001b[39;00m confusion_matrix, ConfusionMatrixDisplay, accuracy_score\n\u001b[0;32m      9\u001b[0m \u001b[38;5;28;01mimport\u001b[39;00m \u001b[38;5;21;01mmatplotlib\u001b[39;00m\u001b[38;5;21;01m.\u001b[39;00m\u001b[38;5;21;01mpyplot\u001b[39;00m \u001b[38;5;28;01mas\u001b[39;00m \u001b[38;5;21;01mplt\u001b[39;00m\n",
      "File \u001b[1;32m~\\AppData\\Roaming\\Python\\Python311\\site-packages\\sklearn\\__init__.py:73\u001b[0m\n\u001b[0;32m     62\u001b[0m \u001b[38;5;66;03m# `_distributor_init` allows distributors to run custom init code.\u001b[39;00m\n\u001b[0;32m     63\u001b[0m \u001b[38;5;66;03m# For instance, for the Windows wheel, this is used to pre-load the\u001b[39;00m\n\u001b[0;32m     64\u001b[0m \u001b[38;5;66;03m# vcomp shared library runtime for OpenMP embedded in the sklearn/.libs\u001b[39;00m\n\u001b[1;32m   (...)\u001b[0m\n\u001b[0;32m     67\u001b[0m \u001b[38;5;66;03m# later is linked to the OpenMP runtime to make it possible to introspect\u001b[39;00m\n\u001b[0;32m     68\u001b[0m \u001b[38;5;66;03m# it and importing it first would fail if the OpenMP dll cannot be found.\u001b[39;00m\n\u001b[0;32m     69\u001b[0m \u001b[38;5;28;01mfrom\u001b[39;00m \u001b[38;5;21;01m.\u001b[39;00m \u001b[38;5;28;01mimport\u001b[39;00m (  \u001b[38;5;66;03m# noqa: F401 E402\u001b[39;00m\n\u001b[0;32m     70\u001b[0m     __check_build,\n\u001b[0;32m     71\u001b[0m     _distributor_init,\n\u001b[0;32m     72\u001b[0m )\n\u001b[1;32m---> 73\u001b[0m \u001b[38;5;28;01mfrom\u001b[39;00m \u001b[38;5;21;01m.\u001b[39;00m\u001b[38;5;21;01mbase\u001b[39;00m \u001b[38;5;28;01mimport\u001b[39;00m clone  \u001b[38;5;66;03m# noqa: E402\u001b[39;00m\n\u001b[0;32m     74\u001b[0m \u001b[38;5;28;01mfrom\u001b[39;00m \u001b[38;5;21;01m.\u001b[39;00m\u001b[38;5;21;01mutils\u001b[39;00m\u001b[38;5;21;01m.\u001b[39;00m\u001b[38;5;21;01m_show_versions\u001b[39;00m \u001b[38;5;28;01mimport\u001b[39;00m show_versions  \u001b[38;5;66;03m# noqa: E402\u001b[39;00m\n\u001b[0;32m     76\u001b[0m _submodules \u001b[38;5;241m=\u001b[39m [\n\u001b[0;32m     77\u001b[0m     \u001b[38;5;124m\"\u001b[39m\u001b[38;5;124mcalibration\u001b[39m\u001b[38;5;124m\"\u001b[39m,\n\u001b[0;32m     78\u001b[0m     \u001b[38;5;124m\"\u001b[39m\u001b[38;5;124mcluster\u001b[39m\u001b[38;5;124m\"\u001b[39m,\n\u001b[1;32m   (...)\u001b[0m\n\u001b[0;32m    114\u001b[0m     \u001b[38;5;124m\"\u001b[39m\u001b[38;5;124mcompose\u001b[39m\u001b[38;5;124m\"\u001b[39m,\n\u001b[0;32m    115\u001b[0m ]\n",
      "File \u001b[1;32m~\\AppData\\Roaming\\Python\\Python311\\site-packages\\sklearn\\base.py:19\u001b[0m\n\u001b[0;32m     17\u001b[0m \u001b[38;5;28;01mfrom\u001b[39;00m \u001b[38;5;21;01m.\u001b[39;00m\u001b[38;5;21;01m_config\u001b[39;00m \u001b[38;5;28;01mimport\u001b[39;00m config_context, get_config\n\u001b[0;32m     18\u001b[0m \u001b[38;5;28;01mfrom\u001b[39;00m \u001b[38;5;21;01m.\u001b[39;00m\u001b[38;5;21;01mexceptions\u001b[39;00m \u001b[38;5;28;01mimport\u001b[39;00m InconsistentVersionWarning\n\u001b[1;32m---> 19\u001b[0m \u001b[38;5;28;01mfrom\u001b[39;00m \u001b[38;5;21;01m.\u001b[39;00m\u001b[38;5;21;01mutils\u001b[39;00m\u001b[38;5;21;01m.\u001b[39;00m\u001b[38;5;21;01m_estimator_html_repr\u001b[39;00m \u001b[38;5;28;01mimport\u001b[39;00m _HTMLDocumentationLinkMixin, estimator_html_repr\n\u001b[0;32m     20\u001b[0m \u001b[38;5;28;01mfrom\u001b[39;00m \u001b[38;5;21;01m.\u001b[39;00m\u001b[38;5;21;01mutils\u001b[39;00m\u001b[38;5;21;01m.\u001b[39;00m\u001b[38;5;21;01m_metadata_requests\u001b[39;00m \u001b[38;5;28;01mimport\u001b[39;00m _MetadataRequester, _routing_enabled\n\u001b[0;32m     21\u001b[0m \u001b[38;5;28;01mfrom\u001b[39;00m \u001b[38;5;21;01m.\u001b[39;00m\u001b[38;5;21;01mutils\u001b[39;00m\u001b[38;5;21;01m.\u001b[39;00m\u001b[38;5;21;01m_param_validation\u001b[39;00m \u001b[38;5;28;01mimport\u001b[39;00m validate_parameter_constraints\n",
      "File \u001b[1;32m~\\AppData\\Roaming\\Python\\Python311\\site-packages\\sklearn\\utils\\__init__.py:13\u001b[0m\n\u001b[0;32m     10\u001b[0m \u001b[38;5;28;01mimport\u001b[39;00m \u001b[38;5;21;01mnumpy\u001b[39;00m \u001b[38;5;28;01mas\u001b[39;00m \u001b[38;5;21;01mnp\u001b[39;00m\n\u001b[0;32m     12\u001b[0m \u001b[38;5;28;01mfrom\u001b[39;00m \u001b[38;5;21;01m.\u001b[39;00m\u001b[38;5;21;01m.\u001b[39;00m\u001b[38;5;21;01mexceptions\u001b[39;00m \u001b[38;5;28;01mimport\u001b[39;00m DataConversionWarning\n\u001b[1;32m---> 13\u001b[0m \u001b[38;5;28;01mfrom\u001b[39;00m \u001b[38;5;21;01m.\u001b[39;00m \u001b[38;5;28;01mimport\u001b[39;00m _joblib, metadata_routing\n\u001b[0;32m     14\u001b[0m \u001b[38;5;28;01mfrom\u001b[39;00m \u001b[38;5;21;01m.\u001b[39;00m\u001b[38;5;21;01m_bunch\u001b[39;00m \u001b[38;5;28;01mimport\u001b[39;00m Bunch\n\u001b[0;32m     15\u001b[0m \u001b[38;5;28;01mfrom\u001b[39;00m \u001b[38;5;21;01m.\u001b[39;00m\u001b[38;5;21;01m_chunking\u001b[39;00m \u001b[38;5;28;01mimport\u001b[39;00m gen_batches, gen_even_slices\n",
      "File \u001b[1;32m~\\AppData\\Roaming\\Python\\Python311\\site-packages\\sklearn\\utils\\_joblib.py:12\u001b[0m\n\u001b[0;32m      9\u001b[0m     _warnings\u001b[38;5;241m.\u001b[39msimplefilter(\u001b[38;5;124m\"\u001b[39m\u001b[38;5;124mignore\u001b[39m\u001b[38;5;124m\"\u001b[39m)\n\u001b[0;32m     10\u001b[0m     \u001b[38;5;66;03m# joblib imports may raise DeprecationWarning on certain Python\u001b[39;00m\n\u001b[0;32m     11\u001b[0m     \u001b[38;5;66;03m# versions\u001b[39;00m\n\u001b[1;32m---> 12\u001b[0m     \u001b[38;5;28;01mimport\u001b[39;00m \u001b[38;5;21;01mjoblib\u001b[39;00m\n\u001b[0;32m     13\u001b[0m     \u001b[38;5;28;01mfrom\u001b[39;00m \u001b[38;5;21;01mjoblib\u001b[39;00m \u001b[38;5;28;01mimport\u001b[39;00m (\n\u001b[0;32m     14\u001b[0m         Memory,\n\u001b[0;32m     15\u001b[0m         Parallel,\n\u001b[1;32m   (...)\u001b[0m\n\u001b[0;32m     25\u001b[0m         register_parallel_backend,\n\u001b[0;32m     26\u001b[0m     )\n\u001b[0;32m     29\u001b[0m __all__ \u001b[38;5;241m=\u001b[39m [\n\u001b[0;32m     30\u001b[0m     \u001b[38;5;124m\"\u001b[39m\u001b[38;5;124mparallel_backend\u001b[39m\u001b[38;5;124m\"\u001b[39m,\n\u001b[0;32m     31\u001b[0m     \u001b[38;5;124m\"\u001b[39m\u001b[38;5;124mregister_parallel_backend\u001b[39m\u001b[38;5;124m\"\u001b[39m,\n\u001b[1;32m   (...)\u001b[0m\n\u001b[0;32m     42\u001b[0m     \u001b[38;5;124m\"\u001b[39m\u001b[38;5;124m__version__\u001b[39m\u001b[38;5;124m\"\u001b[39m,\n\u001b[0;32m     43\u001b[0m ]\n",
      "\u001b[1;31mModuleNotFoundError\u001b[0m: No module named 'joblib'"
     ]
    }
   ],
   "source": [
    "import os\n",
    "import torch\n",
    "import torch.nn as nn\n",
    "import torch.optim as optim\n",
    "import numpy as np\n",
    "import librosa\n",
    "from torch.utils.data import DataLoader, TensorDataset, random_split\n",
    "from sklearn.metrics import confusion_matrix, ConfusionMatrixDisplay, accuracy_score\n",
    "import matplotlib.pyplot as plt\n"
   ]
  },
  {
   "cell_type": "code",
   "execution_count": 54,
   "id": "30a43387",
   "metadata": {},
   "outputs": [],
   "source": [
    "# --- 1. Feature Extraction ---\n",
    "def extract_features(file_path, max_len=100):\n",
    "    audio, sr = librosa.load(file_path, sr=16000, duration=3)\n",
    "    mfcc = librosa.feature.mfcc(y=audio, sr=sr, n_mfcc=40).T\n",
    "    if mfcc.shape[0] < max_len:\n",
    "        mfcc = np.pad(mfcc, ((0, max_len - mfcc.shape[0]), (0, 0)))\n",
    "    else:\n",
    "        mfcc = mfcc[:max_len]\n",
    "    return mfcc  # (100, 40)"
   ]
  },
  {
   "cell_type": "code",
   "execution_count": 55,
   "id": "3e814803",
   "metadata": {},
   "outputs": [
    {
     "name": "stderr",
     "output_type": "stream",
     "text": [
      "C:\\Users\\DATA PROWESS PVT LTD\\AppData\\Local\\Temp\\ipykernel_9224\\43522526.py:13: UserWarning: Creating a tensor from a list of numpy.ndarrays is extremely slow. Please consider converting the list to a single numpy.ndarray with numpy.array() before converting to a tensor. (Triggered internally at C:\\actions-runner\\_work\\pytorch\\pytorch\\pytorch\\torch\\csrc\\utils\\tensor_new.cpp:257.)\n",
      "  X_tensor = torch.FloatTensor(X)  # (n_samples, 100, 40)\n"
     ]
    }
   ],
   "source": [
    "# --- 2. Load Dataset ---\n",
    "languages = [\"hindi\", \"kannada\", \"tamil\", \"malayalam\", \"marathi\",\n",
    "             \"punjabi\", \"urdu\", \"bengali\", \"gujarati\", \"telugu\"]\n",
    "X, y = [], []\n",
    "\n",
    "for idx, lang in enumerate(languages):\n",
    "    for file in os.listdir(f\"dataset/{lang}\"):\n",
    "        if file.endswith(\".mp3\"):\n",
    "            feat = extract_features(f\"dataset/{lang}/{file}\")\n",
    "            X.append(feat)\n",
    "            y.append(idx)\n",
    "\n",
    "X_tensor = torch.FloatTensor(X)  # (n_samples, 100, 40)\n",
    "y_tensor = torch.LongTensor(y)\n",
    "\n",
    "dataset = TensorDataset(X_tensor, y_tensor)\n",
    "train_size = int(0.8 * len(dataset))\n",
    "train_ds, test_ds = random_split(dataset, [train_size, len(dataset) - train_size])\n",
    "train_loader = DataLoader(train_ds, batch_size=32, shuffle=True)\n",
    "test_loader = DataLoader(test_ds, batch_size=32)\n"
   ]
  },
  {
   "cell_type": "code",
   "execution_count": 56,
   "id": "57d24067",
   "metadata": {},
   "outputs": [],
   "source": [
    "# --- 3. Model ---\n",
    "class CNNBiLSTM(nn.Module):\n",
    "    def __init__(self):\n",
    "        super().__init__()\n",
    "        self.conv1 = nn.Conv1d(40, 64, kernel_size=3, padding=1)\n",
    "        self.pool = nn.MaxPool1d(2)\n",
    "        self.lstm = nn.LSTM(input_size=64, hidden_size=128, num_layers=1,\n",
    "                            batch_first=True, bidirectional=True)\n",
    "        self.fc = nn.Linear(128 * 2, 10)  # 10 languages\n",
    "\n",
    "    def forward(self, x):\n",
    "        x = x.permute(0, 2, 1)  # (B, 40, 100)\n",
    "        x = self.pool(torch.relu(self.conv1(x)))  # (B, 64, 50)\n",
    "        x = x.permute(0, 2, 1)  # (B, 50, 64)\n",
    "        lstm_out, _ = self.lstm(x)  # (B, 50, 256)\n",
    "        out = lstm_out[:, -1, :]  # last timestep\n",
    "        return self.fc(out)"
   ]
  },
  {
   "cell_type": "code",
   "execution_count": 57,
   "id": "96412f09",
   "metadata": {},
   "outputs": [
    {
     "name": "stdout",
     "output_type": "stream",
     "text": [
      "Epoch 1: Loss=1.1584, Accuracy=60.32%\n",
      "Epoch 2: Loss=0.6004, Accuracy=76.96%\n",
      "Epoch 3: Loss=0.4700, Accuracy=80.10%\n",
      "Epoch 4: Loss=0.3722, Accuracy=83.54%\n",
      "Epoch 5: Loss=0.3335, Accuracy=85.19%\n",
      "Epoch 6: Loss=0.3062, Accuracy=85.59%\n",
      "Epoch 7: Loss=0.2730, Accuracy=86.48%\n",
      "Epoch 8: Loss=0.2551, Accuracy=87.28%\n",
      "Epoch 9: Loss=0.2325, Accuracy=88.28%\n",
      "Epoch 10: Loss=0.2160, Accuracy=88.54%\n"
     ]
    }
   ],
   "source": [
    "# --- 4. Training ---\n",
    "device = torch.device(\"cuda\" if torch.cuda.is_available() else \"cpu\")\n",
    "model = CNNBiLSTM().to(device)\n",
    "criterion = nn.CrossEntropyLoss()\n",
    "optimizer = optim.Adam(model.parameters(), lr=0.001)\n",
    "\n",
    "def train_model(epochs=10):\n",
    "    for epoch in range(epochs):\n",
    "        model.train()\n",
    "        total_loss, total_acc = 0, 0\n",
    "        for batch_x, batch_y in train_loader:\n",
    "            batch_x, batch_y = batch_x.to(device), batch_y.to(device)\n",
    "            optimizer.zero_grad()\n",
    "            outputs = model(batch_x)\n",
    "            loss = criterion(outputs, batch_y)\n",
    "            loss.backward()\n",
    "            optimizer.step()\n",
    "            acc = (outputs.argmax(1) == batch_y).float().mean().item()\n",
    "            total_loss += loss.item()\n",
    "            total_acc += acc\n",
    "        avg_loss = total_loss / len(train_loader)\n",
    "        avg_acc = total_acc / len(train_loader)\n",
    "        print(f\"Epoch {epoch+1}: Loss={avg_loss:.4f}, Accuracy={avg_acc:.2%}\")\n",
    "\n",
    "train_model()\n",
    "\n"
   ]
  },
  {
   "cell_type": "code",
   "execution_count": 58,
   "id": "b1d39e70",
   "metadata": {},
   "outputs": [
    {
     "name": "stdout",
     "output_type": "stream",
     "text": [
      "\n",
      "✅ Test Accuracy: 84.60%\n"
     ]
    },
    {
     "data": {
      "image/png": "[encoded data removed]",
      "text/plain": [
       "<Figure size 640x480 with 2 Axes>"
      ]
     },
     "metadata": {},
     "output_type": "display_data"
    }
   ],
   "source": [
    "# --- 5. Evaluate & Confusion Matrix ---\n",
    "def evaluate_and_plot():\n",
    "    model.eval()\n",
    "    all_preds, all_true = [], []\n",
    "    with torch.no_grad():\n",
    "        for batch_x, batch_y in test_loader:\n",
    "            batch_x = batch_x.to(device)\n",
    "            outputs = model(batch_x)\n",
    "            preds = outputs.argmax(1).cpu().numpy()\n",
    "            all_preds.extend(preds)\n",
    "            all_true.extend(batch_y.numpy())\n",
    "\n",
    "    acc = accuracy_score(all_true, all_preds)\n",
    "    print(f\"\\n✅ Test Accuracy: {acc:.2%}\")\n",
    "    cm = confusion_matrix(all_true, all_preds)\n",
    "    disp = ConfusionMatrixDisplay(cm, display_labels=languages)\n",
    "    disp.plot(xticks_rotation=45, cmap='Blues')\n",
    "    plt.title(\"Confusion Matrix\")\n",
    "    plt.show()\n",
    "\n",
    "evaluate_and_plot()"
   ]
  },
  {
   "cell_type": "code",
   "execution_count": 59,
   "id": "337b265f",
   "metadata": {},
   "outputs": [
    {
     "name": "stdout",
     "output_type": "stream",
     "text": [
      "🎉 Model saved as cnn_bilstm_langid.pth\n"
     ]
    }
   ],
   "source": [
    "torch.save(model.state_dict(), \"cnn_bilstm_langid.pth\")\n",
    "print(\"🎉 Model saved as cnn_bilstm_langid.pth\")"
   ]
  },
  {
   "cell_type": "code",
   "execution_count": null,
   "id": "b5a53602",
   "metadata": {},
   "outputs": [],
   "source": []
  },
  {
   "cell_type": "code",
   "execution_count": 63,
   "id": "0704ee06",
   "metadata": {},
   "outputs": [
    {
     "name": "stdout",
     "output_type": "stream",
     "text": [
      "🎙️ Detected Language: Kannada\n"
     ]
    }
   ],
   "source": [
    "import torch\n",
    "import torch.nn as nn\n",
    "import librosa\n",
    "import numpy as np\n",
    "\n",
    "# Load the trained model class\n",
    "class CNNBiLSTM(nn.Module):\n",
    "    def __init__(self):\n",
    "        super().__init__()\n",
    "        self.conv1 = nn.Conv1d(40, 64, kernel_size=3, padding=1)\n",
    "        self.pool = nn.MaxPool1d(2)\n",
    "        self.lstm = nn.LSTM(input_size=64, hidden_size=128, num_layers=1,\n",
    "                            batch_first=True, bidirectional=True)\n",
    "        self.fc = nn.Linear(128 * 2, 10)\n",
    "\n",
    "    def forward(self, x):\n",
    "        x = x.permute(0, 2, 1)  # (B, 40, 100)\n",
    "        x = self.pool(torch.relu(self.conv1(x)))  # (B, 64, 50)\n",
    "        x = x.permute(0, 2, 1)  # (B, 50, 64)\n",
    "        lstm_out, _ = self.lstm(x)\n",
    "        out = lstm_out[:, -1, :]\n",
    "        return self.fc(out)\n",
    "\n",
    "# --- Parameters ---\n",
    "LANGUAGES = [\"hindi\", \"kannada\", \"tamil\", \"malayalam\", \"marathi\",\n",
    "             \"punjabi\", \"urdu\", \"bengali\", \"gujarati\", \"telugu\"]\n",
    "\n",
    "MAX_LEN = 100  # Number of frames for padding\n",
    "\n",
    "# --- Load model ---\n",
    "device = torch.device(\"cuda\" if torch.cuda.is_available() else \"cpu\")\n",
    "model = CNNBiLSTM().to(device)\n",
    "model.load_state_dict(torch.load(\"cnn_bilstm_langid.pth\", map_location=device))\n",
    "model.eval()\n",
    "\n",
    "# --- Audio Preprocessing ---\n",
    "def preprocess_audio(file_path):\n",
    "    audio, sr = librosa.load(file_path, sr=16000, duration=3)\n",
    "    mfcc = librosa.feature.mfcc(y=audio, sr=sr, n_mfcc=40).T\n",
    "    if mfcc.shape[0] < MAX_LEN:\n",
    "        mfcc = np.pad(mfcc, ((0, MAX_LEN - mfcc.shape[0]), (0, 0)))\n",
    "    else:\n",
    "        mfcc = mfcc[:MAX_LEN]\n",
    "    return torch.FloatTensor(mfcc).unsqueeze(0).to(device)  # shape: (1, 100, 40)\n",
    "\n",
    "# --- Predict Language ---\n",
    "def predict_language(audio_path):\n",
    "    features = preprocess_audio(audio_path)\n",
    "    with torch.no_grad():\n",
    "        output = model(features)\n",
    "        predicted_class = torch.argmax(output, dim=1).item()\n",
    "    return LANGUAGES[predicted_class]\n",
    "\n",
    "# --- Run on your file ---\n",
    "file_path = \"kan_test.mp3\"  # Change this to your file\n",
    "predicted_lang = predict_language(file_path)\n",
    "print(f\"🎙️ Detected Language: {predicted_lang.capitalize()}\")\n"
   ]
  },
  {
   "cell_type": "code",
   "execution_count": null,
   "id": "2964c5e9",
   "metadata": {},
   "outputs": [],
   "source": []
  },
  {
   "cell_type": "code",
   "execution_count": null,
   "id": "f9a6b8ce",
   "metadata": {},
   "outputs": [
    {
     "name": "stdout",
     "output_type": "stream",
     "text": [
      "🔍 Detecting language...\n",
      "🌐 Language Detected: Kannada\n",
      "🗣️ Transcribing speech to text...\n",
      "📝 Transcribed Text: ಆದ್ದರಿಂದ ಮಾ\n"
     ]
    }
   ],
   "source": [
    "import torch\n",
    "import torch.nn as nn\n",
    "import librosa\n",
    "import numpy as np\n",
    "import io\n",
    "import soundfile as sf\n",
    "import speech_recognition as sr\n",
    "\n",
    "# --- Language Labels ---\n",
    "LANGUAGES = [\"hindi\", \"kannada\", \"tamil\", \"malayalam\", \"marathi\",\n",
    "             \"punjabi\", \"urdu\", \"bengali\", \"gujarati\", \"telugu\"]\n",
    "\n",
    "LANG_CODE_MAP = {\n",
    "    \"hindi\": \"hi-IN\",\n",
    "    \"kannada\": \"kn-IN\",\n",
    "    \"tamil\": \"ta-IN\",\n",
    "    \"malayalam\": \"ml-IN\",\n",
    "    \"marathi\": \"mr-IN\",\n",
    "    \"punjabi\": \"pa-IN\",\n",
    "    \"urdu\": \"ur-IN\",\n",
    "    \"bengali\": \"bn-IN\",\n",
    "    \"gujarati\": \"gu-IN\",\n",
    "    \"telugu\": \"te-IN\",\n",
    "}\n",
    "\n",
    "# --- CNN + BiLSTM Model Definition ---\n",
    "class CNNBiLSTM(nn.Module):\n",
    "    def __init__(self):\n",
    "        super().__init__()\n",
    "        self.conv1 = nn.Conv1d(40, 64, kernel_size=3, padding=1)\n",
    "        self.pool = nn.MaxPool1d(2)\n",
    "        self.lstm = nn.LSTM(input_size=64, hidden_size=128, num_layers=1,\n",
    "                            batch_first=True, bidirectional=True)\n",
    "        self.fc = nn.Linear(128 * 2, 10)\n",
    "\n",
    "    def forward(self, x):\n",
    "        x = x.permute(0, 2, 1)\n",
    "        x = self.pool(torch.relu(self.conv1(x)))\n",
    "        x = x.permute(0, 2, 1)\n",
    "        lstm_out, _ = self.lstm(x)\n",
    "        return self.fc(lstm_out[:, -1, :])\n",
    "\n",
    "# --- Load Model ---\n",
    "device = torch.device(\"cuda\" if torch.cuda.is_available() else \"cpu\")\n",
    "model = CNNBiLSTM().to(device)\n",
    "model.load_state_dict(torch.load(\"cnn_bilstm_langid.pth\", map_location=device))\n",
    "model.eval()\n",
    "\n",
    "# --- Preprocessing for Language Detection ---\n",
    "def preprocess_audio(file_path, max_len=100):\n",
    "    audio, sample_rate = librosa.load(file_path, sr=16000, duration=3)\n",
    "    mfcc = librosa.feature.mfcc(y=audio, sr=sample_rate, n_mfcc=40).T\n",
    "    if mfcc.shape[0] < max_len:\n",
    "        mfcc = np.pad(mfcc, ((0, max_len - mfcc.shape[0]), (0, 0)))\n",
    "    else:\n",
    "        mfcc = mfcc[:max_len]\n",
    "    return torch.FloatTensor(mfcc).unsqueeze(0).to(device), audio, sample_rate\n",
    "\n",
    "# --- Detect Language from Audio ---\n",
    "def detect_language(mp3_path):\n",
    "    tensor, _, _ = preprocess_audio(mp3_path)\n",
    "    with torch.no_grad():\n",
    "        output = model(tensor)\n",
    "        predicted = torch.argmax(output, dim=1).item()\n",
    "        return LANGUAGES[predicted]\n",
    "\n",
    "# --- Transcribe Audio to Text ---\n",
    "def speech_to_text(mp3_path, lang_code='en-IN'):\n",
    "    audio_data, sample_rate = librosa.load(mp3_path, sr=16000)\n",
    "\n",
    "    # Save to in-memory WAV buffer\n",
    "    buffer = io.BytesIO()\n",
    "    sf.write(buffer, audio_data, sample_rate, format='WAV')\n",
    "    buffer.seek(0)\n",
    "\n",
    "    recognizer = sr.Recognizer()\n",
    "    with sr.AudioFile(buffer) as source:\n",
    "        audio = recognizer.record(source)\n",
    "        try:\n",
    "            return recognizer.recognize_google(audio, language=lang_code)\n",
    "        except sr.UnknownValueError:\n",
    "            return \"❗ Could not understand the audio. Speak clearly\"\n",
    "        except sr.RequestError:\n",
    "            return \"❗ Google API request failed.\"\n",
    "\n",
    "# --- Main Function ---\n",
    "def analyze_audio(mp3_path):\n",
    "    print(\"🔍 Detecting language...\")\n",
    "    lang = detect_language (mp3_path)\n",
    "    print(f\"🌐 Language Detected: {lang.capitalize()}\")\n",
    "\n",
    "    print(\"🗣️ Transcribing speech to text...\")\n",
    "    lang_code = LANG_CODE_MAP.get(lang.lower(), 'en-IN')\n",
    "    transcription = speech_to_text(mp3_path, lang_code)\n",
    "    print(f\"📝 Transcribed Text: {transcription}\")\n",
    "\n",
    "# --- Run the Script ---\n",
    "if __name__ == \"__main__\":\n",
    "    mp3_file = \"kan_test.mp3\"\n",
    "    analyze_audio(mp3_file)\n"
   ]
  },
  {
   "cell_type": "markdown",
   "id": "16d5dded",
   "metadata": {},
   "source": [
    "Video"
   ]
  },
  {
   "cell_type": "code",
   "execution_count": 83,
   "id": "20a25472",
   "metadata": {},
   "outputs": [
    {
     "name": "stdout",
     "output_type": "stream",
     "text": [
      "Collecting opencv-python\n",
      "  Downloading opencv_python-4.11.0.86-cp37-abi3-win_amd64.whl.metadata (20 kB)\n",
      "Requirement already satisfied: numpy>=1.21.2 in c:\\users\\data prowess pvt ltd\\appdata\\local\\programs\\python\\python313\\lib\\site-packages (from opencv-python) (2.2.4)\n",
      "Downloading opencv_python-4.11.0.86-cp37-abi3-win_amd64.whl (39.5 MB)\n",
      "   ---------------------------------------- 0.0/39.5 MB ? eta -:--:--\n",
      "   --- ------------------------------------ 3.7/39.5 MB 20.2 MB/s eta 0:00:02\n",
      "   -------- ------------------------------- 8.7/39.5 MB 22.0 MB/s eta 0:00:02\n",
      "   -------------- ------------------------- 14.4/39.5 MB 23.4 MB/s eta 0:00:02\n",
      "   ------------------- -------------------- 19.4/39.5 MB 24.5 MB/s eta 0:00:01\n",
      "   ------------------------- -------------- 24.9/39.5 MB 23.8 MB/s eta 0:00:01\n",
      "   ---------------------------- ----------- 28.3/39.5 MB 22.3 MB/s eta 0:00:01\n",
      "   --------------------------------- ------ 33.6/39.5 MB 22.5 MB/s eta 0:00:01\n",
      "   ---------------------------------------  39.1/39.5 MB 22.9 MB/s eta 0:00:01\n",
      "   ---------------------------------------- 39.5/39.5 MB 21.4 MB/s eta 0:00:00\n",
      "Installing collected packages: opencv-python\n",
      "Successfully installed opencv-python-4.11.0.86\n",
      "Note: you may need to restart the kernel to use updated packages.\n"
     ]
    },
    {
     "name": "stderr",
     "output_type": "stream",
     "text": [
      "\n",
      "[notice] A new release of pip is available: 24.3.1 -> 25.0.1\n",
      "[notice] To update, run: python.exe -m pip install --upgrade pip\n"
     ]
    }
   ],
   "source": [
    "pip install opencv-python"
   ]
  },
  {
   "cell_type": "code",
   "execution_count": null,
   "id": "c359c0a6",
   "metadata": {},
   "outputs": [
    {
     "ename": "KeyboardInterrupt",
     "evalue": "",
     "output_type": "error",
     "traceback": [
      "\u001b[31m---------------------------------------------------------------------------\u001b[39m",
      "\u001b[31mKeyboardInterrupt\u001b[39m                         Traceback (most recent call last)",
      "\u001b[36mCell\u001b[39m\u001b[36m \u001b[39m\u001b[32mIn[7]\u001b[39m\u001b[32m, line 111\u001b[39m\n\u001b[32m    109\u001b[39m \u001b[38;5;66;03m# ---------------- Start ----------------\u001b[39;00m\n\u001b[32m    110\u001b[39m \u001b[38;5;28;01mif\u001b[39;00m \u001b[34m__name__\u001b[39m == \u001b[33m\"\u001b[39m\u001b[33m__main__\u001b[39m\u001b[33m\"\u001b[39m:\n\u001b[32m--> \u001b[39m\u001b[32m111\u001b[39m     \u001b[43mstart_video_captioning\u001b[49m\u001b[43m(\u001b[49m\u001b[43m)\u001b[49m\n",
      "\u001b[36mCell\u001b[39m\u001b[36m \u001b[39m\u001b[32mIn[7]\u001b[39m\u001b[32m, line 96\u001b[39m, in \u001b[36mstart_video_captioning\u001b[39m\u001b[34m()\u001b[39m\n\u001b[32m     93\u001b[39m threading.Thread(target=audio_capture, daemon=\u001b[38;5;28;01mTrue\u001b[39;00m).start()\n\u001b[32m     95\u001b[39m \u001b[38;5;28;01mwhile\u001b[39;00m cap.isOpened():\n\u001b[32m---> \u001b[39m\u001b[32m96\u001b[39m     ret, frame = \u001b[43mcap\u001b[49m\u001b[43m.\u001b[49m\u001b[43mread\u001b[49m\u001b[43m(\u001b[49m\u001b[43m)\u001b[49m\n\u001b[32m     97\u001b[39m     \u001b[38;5;28;01mif\u001b[39;00m \u001b[38;5;129;01mnot\u001b[39;00m ret:\n\u001b[32m     98\u001b[39m         \u001b[38;5;28;01mbreak\u001b[39;00m\n",
      "\u001b[31mKeyboardInterrupt\u001b[39m: "
     ]
    },
    {
     "ename": "",
     "evalue": "",
     "output_type": "error",
     "traceback": [
      "\u001b[1;31mThe Kernel crashed while executing code in the current cell or a previous cell. \n",
      "\u001b[1;31mPlease review the code in the cell(s) to identify a possible cause of the failure. \n",
      "\u001b[1;31mClick <a href='https://aka.ms/vscodeJupyterKernelCrash'>here</a> for more info. \n",
      "\u001b[1;31mView Jupyter <a href='command:jupyter.viewOutput'>log</a> for further details."
     ]
    }
   ],
   "source": [
    "import cv2\n",
    "import numpy as np\n",
    "import torch\n",
    "import torch.nn as nn\n",
    "import librosa\n",
    "import sounddevice as sd\n",
    "import io\n",
    "import soundfile as sf\n",
    "import speech_recognition as sr\n",
    "import queue\n",
    "import threading\n",
    "import time\n",
    "\n",
    "# ---------------- Your Model and Language Mapping ----------------\n",
    "LANGUAGES = [\"hindi\", \"kannada\", \"tamil\", \"malayalam\", \"marathi\",\n",
    "             \"punjabi\", \"urdu\", \"bengali\", \"gujarati\", \"telugu\"]\n",
    "\n",
    "LANG_CODE_MAP = {\n",
    "    \"hindi\": \"hi-IN\", \"kannada\": \"kn-IN\", \"tamil\": \"ta-IN\", \"malayalam\": \"ml-IN\",\n",
    "    \"marathi\": \"mr-IN\", \"punjabi\": \"pa-IN\", \"urdu\": \"ur-IN\", \"bengali\": \"bn-IN\",\n",
    "    \"gujarati\": \"gu-IN\", \"telugu\": \"te-IN\"\n",
    "}\n",
    "\n",
    "class CNNBiLSTM(nn.Module):\n",
    "    def __init__(self):\n",
    "        super().__init__()\n",
    "        self.conv1 = nn.Conv1d(40, 64, kernel_size=3, padding=1)\n",
    "        self.pool = nn.MaxPool1d(2)\n",
    "        self.lstm = nn.LSTM(64, 128, batch_first=True, bidirectional=True)\n",
    "        self.fc = nn.Linear(256, 10)\n",
    "\n",
    "    def forward(self, x):\n",
    "        x = x.permute(0, 2, 1)\n",
    "        x = self.pool(torch.relu(self.conv1(x)))\n",
    "        x = x.permute(0, 2, 1)\n",
    "        lstm_out, _ = self.lstm(x)\n",
    "        return self.fc(lstm_out[:, -1, :])\n",
    "\n",
    "device = torch.device(\"cuda\" if torch.cuda.is_available() else \"cpu\")\n",
    "model = CNNBiLSTM().to(device)\n",
    "model.load_state_dict(torch.load(\"cnn_bilstm_langid.pth\", map_location=device))\n",
    "model.eval()\n",
    "\n",
    "# ---------------- Audio Streaming & Inference ----------------\n",
    "audio_queue = queue.Queue()\n",
    "transcription = \"\"\n",
    "language = \"english\"\n",
    "\n",
    "def detect_language(audio_np, sample_rate):\n",
    "    mfcc = librosa.feature.mfcc(y=audio_np, sr=sample_rate, n_mfcc=40).T\n",
    "    mfcc = np.pad(mfcc, ((0, 100 - mfcc.shape[0]), (0, 0))) if mfcc.shape[0] < 100 else mfcc[:100]\n",
    "    tensor = torch.FloatTensor(mfcc).unsqueeze(0).to(device)\n",
    "    with torch.no_grad():\n",
    "        output = model(tensor)\n",
    "        predicted = torch.argmax(output, dim=1).item()\n",
    "        return LANGUAGES[predicted]\n",
    "\n",
    "def recognize_stream():\n",
    "    global transcription, language\n",
    "    while True:\n",
    "        if not audio_queue.empty():\n",
    "            audio_np, sr = audio_queue.get()\n",
    "            try:\n",
    "                lang = detect_language(audio_np, sr)\n",
    "                lang_code = LANG_CODE_MAP.get(lang.lower(), \"en-IN\")\n",
    "\n",
    "                buffer = io.BytesIO()\n",
    "                sf.write(buffer, audio_np, sr, format='WAV')\n",
    "                buffer.seek(0)\n",
    "\n",
    "                recognizer = sr.Recognizer()\n",
    "                with sr.AudioFile(buffer) as source:\n",
    "                    audio = recognizer.record(source)\n",
    "                    transcription = recognizer.recognize_google(audio, language=lang_code)\n",
    "                    language = lang.capitalize()\n",
    "            except Exception:\n",
    "                transcription = \"...\"\n",
    "        time.sleep(1)\n",
    "\n",
    "def audio_capture(duration=3, sample_rate=16000):\n",
    "    while True:\n",
    "        audio = sd.rec(int(duration * sample_rate), samplerate=sample_rate, channels=1, dtype='float32')\n",
    "        sd.wait()\n",
    "        audio_np = audio.flatten()\n",
    "        audio_queue.put((audio_np, sample_rate))\n",
    "\n",
    "# ---------------- Video + Caption Display ----------------\n",
    "def start_video_captioning():\n",
    "    cap = cv2.VideoCapture(0)\n",
    "    font = cv2.FONT_HERSHEY_SIMPLEX\n",
    "\n",
    "    threading.Thread(target=recognize_stream, daemon=True).start()\n",
    "    threading.Thread(target=audio_capture, daemon=True).start()\n",
    "\n",
    "    while cap.isOpened():\n",
    "        ret, frame = cap.read()\n",
    "        if not ret:\n",
    "            break\n",
    "\n",
    "        cv2.putText(frame, f\"[{language}] {transcription}\", (20, 30), font, 0.7, (0, 255, 0), 2)\n",
    "        cv2.imshow(\"Live Captioning\", frame)\n",
    "\n",
    "        if cv2.waitKey(1) & 0xFF == ord('q'):\n",
    "            break\n",
    "\n",
    "    cap.release()\n",
    "    cv2.destroyAllWindows()\n",
    "\n",
    "# ---------------- Start ----------------\n",
    "if __name__ == \"__main__\":\n",
    "    start_video_captioning()\n"
   ]
  },
  {
   "cell_type": "code",
   "execution_count": null,
   "id": "cc391400",
   "metadata": {},
   "outputs": [],
   "source": []
  },
  {
   "cell_type": "code",
   "execution_count": null,
   "id": "a886ae17",
   "metadata": {},
   "outputs": [],
   "source": []
  },
  {
   "cell_type": "code",
   "execution_count": null,
   "id": "3a3c4853",
   "metadata": {},
   "outputs": [],
   "source": []
  }
 ],
 "metadata": {
  "kernelspec": {
   "display_name": "env",
   "language": "python",
   "name": "python3"
  },
  "language_info": {
   "codemirror_mode": {
    "name": "ipython",
    "version": 3
   },
   "file_extension": ".py",
   "mimetype": "text/x-python",
   "name": "python",
   "nbconvert_exporter": "python",
   "pygments_lexer": "ipython3",
   "version": "3.11.9"
  }
 },
 "nbformat": 4,
 "nbformat_minor": 5
}
